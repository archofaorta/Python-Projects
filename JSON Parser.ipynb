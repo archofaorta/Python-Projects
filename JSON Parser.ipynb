{
 "cells": [
  {
   "cell_type": "code",
   "execution_count": null,
   "metadata": {},
   "outputs": [],
   "source": [
    "print(\"1:\", 2+2, \"2:\",1000+200, \"3:\",50-25,\"4:\",35-46, \"5:\",4*5,\"6:\",12/4,\"7:\",3//2,\"8:\",10//5)"
   ]
  },
  {
   "cell_type": "code",
   "execution_count": 1,
   "metadata": {},
   "outputs": [],
   "source": [
    "import sys\n",
    "import json\n",
    "import csv\n",
    "import os\n",
    "os.chdir(\"/Users/Pinnacle/Server/Course Material/Python Scripts\")"
   ]
  },
  {
   "cell_type": "code",
   "execution_count": 2,
   "metadata": {},
   "outputs": [],
   "source": [
    "def to_string(s):\n",
    "    try:\n",
    "        return str(s)\n",
    "    except:\n",
    "        #Change the encoding type if needed\n",
    "        return s.encode('utf-8')"
   ]
  },
  {
   "cell_type": "code",
   "execution_count": 3,
   "metadata": {},
   "outputs": [],
   "source": [
    "def reduce_item(key, value):\n",
    "    global reduced_item\n",
    "    \n",
    "    #Reduction Condition 1\n",
    "    if type(value) is list:\n",
    "        i=0\n",
    "        for sub_item in value:\n",
    "            reduce_item(key+'_'+to_string(i), sub_item)\n",
    "            i=i+1\n",
    "\n",
    "    #Reduction Condition 2\n",
    "    elif type(value) is dict:\n",
    "        sub_keys = value.keys()\n",
    "        for sub_key in sub_keys:\n",
    "            reduce_item(key+'_'+to_string(sub_key), value[sub_key])\n",
    "    \n",
    "    #Base Condition\n",
    "    else:\n",
    "        reduced_item[to_string(key)] = to_string(value)"
   ]
  },
  {
   "cell_type": "code",
   "execution_count": 4,
   "metadata": {},
   "outputs": [
    {
     "name": "stdout",
     "output_type": "stream",
     "text": [
      "Just completed writing csv file with 1 columns\n"
     ]
    }
   ],
   "source": [
    " #Reading arguments\n",
    "node = \"riskMeasureInfo\"\n",
    "json_file_path = \"XRS_Data.json\"\n",
    "csv_file_path = \"XRS_Data_JSON.csv\"\n",
    "\n",
    "fp = open(json_file_path, 'r')\n",
    "json_value = fp.read()\n",
    "raw_data = json.loads(json_value)\n",
    "fp.close()\n",
    "\n",
    "try:\n",
    "    data_to_be_processed = raw_data[node]\n",
    "except:\n",
    "    data_to_be_processed = raw_data\n",
    "\n",
    "processed_data = []\n",
    "header = []\n",
    "for item in data_to_be_processed:\n",
    "    reduced_item = {}\n",
    "    reduce_item(node, item)\n",
    "\n",
    "    header += reduced_item.keys()\n",
    "\n",
    "    processed_data.append(reduced_item)\n",
    "\n",
    "header = list(set(header))\n",
    "header.sort()\n",
    "\n",
    "with open(csv_file_path, 'w+') as f:\n",
    "    writer = csv.DictWriter(f, header, quoting=csv.QUOTE_ALL)\n",
    "    writer.writeheader()\n",
    "    for row in processed_data:\n",
    "        writer.writerow(row)\n",
    "\n",
    "print (\"Just completed writing csv file with %d columns\" % len(header))"
   ]
  },
  {
   "cell_type": "code",
   "execution_count": 5,
   "metadata": {},
   "outputs": [],
   "source": [
    "import json\n",
    "import csv\n",
    "\n",
    "def get_leaves(item, key=None):\n",
    "    if isinstance(item, dict):\n",
    "        leaves = {}\n",
    "        for i in item.keys():\n",
    "            leaves.update(get_leaves(item[i], i))\n",
    "        return leaves\n",
    "    elif isinstance(item, list):\n",
    "        leaves = {}\n",
    "        for i in item:\n",
    "            leaves.update(get_leaves(i, key))\n",
    "        return leaves\n",
    "    else:\n",
    "        return {key : item}\n",
    "\n",
    "\n",
    "with open('XRS_Data.json') as f_input:\n",
    "    json_data = json.load(f_input)\n",
    "\n",
    "# First parse all entries to get the complete fieldname list\n",
    "fieldnames = set()\n",
    "\n",
    "for entry in json_data:\n",
    "    fieldnames.update(get_leaves(entry).keys())\n",
    "\n",
    "with open('output.csv', 'w', newline='') as f_output:\n",
    "    csv_output = csv.DictWriter(f_output, fieldnames=sorted(fieldnames))\n",
    "    csv_output.writeheader()\n",
    "    csv_output.writerows(get_leaves(entry) for entry in json_data)\n"
   ]
  },
  {
   "cell_type": "code",
   "execution_count": null,
   "metadata": {},
   "outputs": [],
   "source": []
  }
 ],
 "metadata": {
  "kernelspec": {
   "display_name": "Python 3",
   "language": "python",
   "name": "python3"
  },
  "language_info": {
   "codemirror_mode": {
    "name": "ipython",
    "version": 3
   },
   "file_extension": ".py",
   "mimetype": "text/x-python",
   "name": "python",
   "nbconvert_exporter": "python",
   "pygments_lexer": "ipython3",
   "version": "3.6.3"
  }
 },
 "nbformat": 4,
 "nbformat_minor": 4
}
